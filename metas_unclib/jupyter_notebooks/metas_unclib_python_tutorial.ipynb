{
 "cells": [
  {
   "cell_type": "markdown",
   "metadata": {},
   "source": [
    "# METAS UncLib Python Tutorial"
   ]
  },
  {
   "cell_type": "markdown",
   "metadata": {},
   "source": [
    "Michael Wollensack METAS - 02.05.2019"
   ]
  },
  {
   "cell_type": "markdown",
   "metadata": {},
   "source": [
    "## Linear uncertainty propagation"
   ]
  },
  {
   "cell_type": "markdown",
   "metadata": {},
   "source": [
    "Import [METAS UncLib](https://www.metas.ch/unclib) and use the linear uncertainty propagation."
   ]
  },
  {
   "cell_type": "code",
   "execution_count": 1,
   "metadata": {},
   "outputs": [],
   "source": [
    "from metas_unclib import *\n",
    "use_linprop()"
   ]
  },
  {
   "cell_type": "markdown",
   "metadata": {},
   "source": [
    "### Create uncertain numbers"
   ]
  },
  {
   "cell_type": "code",
   "execution_count": 2,
   "metadata": {},
   "outputs": [
    {
     "name": "stdout",
     "output_type": "stream",
     "text": [
      "1.0 ± 0.1\n"
     ]
    }
   ],
   "source": [
    "x1 = ufloat(1.0, 0.1, desc='x1')\n",
    "print(x1)"
   ]
  },
  {
   "cell_type": "code",
   "execution_count": 3,
   "metadata": {},
   "outputs": [
    {
     "name": "stdout",
     "output_type": "stream",
     "text": [
      "2.0 ± 0.2\n"
     ]
    }
   ],
   "source": [
    "x2 = ufloat(2.0, 0.2, desc='x2')\n",
    "print(x2)"
   ]
  },
  {
   "cell_type": "markdown",
   "metadata": {},
   "source": [
    "### Create uncertain arrays"
   ]
  },
  {
   "cell_type": "code",
   "execution_count": 4,
   "metadata": {},
   "outputs": [
    {
     "name": "stdout",
     "output_type": "stream",
     "text": [
      "[1.0 ± 0.1 2.0 ± 0.2]\n"
     ]
    }
   ],
   "source": [
    "v1 = ufloatarray([1.0, 2.0], np.diag([0.1**2, 0.2**2]))\n",
    "print(v1)"
   ]
  },
  {
   "cell_type": "markdown",
   "metadata": {},
   "source": [
    "or"
   ]
  },
  {
   "cell_type": "code",
   "execution_count": 5,
   "metadata": {},
   "outputs": [
    {
     "name": "stdout",
     "output_type": "stream",
     "text": [
      "[1.0 ± 0.1 2.0 ± 0.2]\n"
     ]
    }
   ],
   "source": [
    "v2 = np.array([x1, x2])\n",
    "print(v2)"
   ]
  },
  {
   "cell_type": "markdown",
   "metadata": {},
   "source": [
    "### Create uncertain matrices"
   ]
  },
  {
   "cell_type": "markdown",
   "metadata": {},
   "source": [
    "The order in the covariance matrix is based on a column-wise vectorization of the matrix."
   ]
  },
  {
   "cell_type": "code",
   "execution_count": 6,
   "metadata": {},
   "outputs": [
    {
     "name": "stdout",
     "output_type": "stream",
     "text": [
      "[[1.0 ± 0.1 2.0 ± 0.2]\n",
      " [3.0 ± 0.3 4.0 ± 0.4]]\n"
     ]
    }
   ],
   "source": [
    "m1 = ufloatarray([[1.0, 2.0], [3.0, 4.0]], np.diag([0.1**2, 0.3**2, 0.2**2, 0.4**2]))\n",
    "print(m1)"
   ]
  },
  {
   "cell_type": "code",
   "execution_count": 7,
   "metadata": {},
   "outputs": [
    {
     "name": "stdout",
     "output_type": "stream",
     "text": [
      "[[1.0 ± 0.1 2.0 ± 0.2]\n",
      " [3.0 ± 0.30000000000000004 4.0 ± 0.4]]\n"
     ]
    }
   ],
   "source": [
    "m2 = np.array([[x1, x2], [3.*x1, 2.*x2]])\n",
    "print(m2)"
   ]
  },
  {
   "cell_type": "markdown",
   "metadata": {},
   "source": [
    "### Careful: The matrices look the same but they are different"
   ]
  },
  {
   "cell_type": "markdown",
   "metadata": {},
   "source": [
    "m1 and m2 have the same values but different dependencies.\n",
    "The elements of m1 are uncorrelated base inputs whereas some of the elements of m2 were constructed from base inputs x1 and x2 and are thus correlated. The difference is obvious if one looks at the uncertainties of the inverted matrices."
   ]
  },
  {
   "cell_type": "code",
   "execution_count": 8,
   "metadata": {},
   "outputs": [
    {
     "name": "stdout",
     "output_type": "stream",
     "text": [
      "[[-1.9999999999999998 ± 1.1135528725660042 1.0 ± 0.4582575694955839]\n",
      " [1.4999999999999998 ± 0.6873863542433759\n",
      "  -0.49999999999999994 ± 0.278388218141501]]\n"
     ]
    }
   ],
   "source": [
    "m3 = ulinalg.inv(m1)\n",
    "print(m3)"
   ]
  },
  {
   "cell_type": "code",
   "execution_count": 9,
   "metadata": {},
   "outputs": [
    {
     "name": "stdout",
     "output_type": "stream",
     "text": [
      "[[-1.9999999999999998 ± 0.2 1.0 ± 0.10000000000000003]\n",
      " [1.4999999999999998 ± 0.15 -0.49999999999999994 ± 0.04999999999999999]]\n"
     ]
    }
   ],
   "source": [
    "m4 = ulinalg.inv(m2)\n",
    "print(m4)"
   ]
  },
  {
   "cell_type": "markdown",
   "metadata": {},
   "source": [
    "### Do some calculations with uncertain numbers"
   ]
  },
  {
   "cell_type": "code",
   "execution_count": 10,
   "metadata": {},
   "outputs": [
    {
     "name": "stdout",
     "output_type": "stream",
     "text": [
      "3.0 ± 0.223606797749979\n"
     ]
    }
   ],
   "source": [
    "x3 = x1 + x2\n",
    "print(x3)"
   ]
  },
  {
   "cell_type": "code",
   "execution_count": 11,
   "metadata": {},
   "outputs": [
    {
     "name": "stdout",
     "output_type": "stream",
     "text": [
      "2.0 ± 0.28284271247461906\n"
     ]
    }
   ],
   "source": [
    "x4 = x1 * x2\n",
    "print(x4)"
   ]
  },
  {
   "cell_type": "code",
   "execution_count": 12,
   "metadata": {},
   "outputs": [
    {
     "name": "stdout",
     "output_type": "stream",
     "text": [
      "2.23606797749979 ± 0.11180339887498948\n"
     ]
    }
   ],
   "source": [
    "x5 = umath.sqrt(x3 + x4)\n",
    "print(x5)"
   ]
  },
  {
   "cell_type": "code",
   "execution_count": 13,
   "metadata": {},
   "outputs": [
    {
     "name": "stdout",
     "output_type": "stream",
     "text": [
      "1.5 ± 0.1118033988749895\n"
     ]
    }
   ],
   "source": [
    "x6 = x3 / x4\n",
    "print(x6)"
   ]
  },
  {
   "cell_type": "code",
   "execution_count": 14,
   "metadata": {},
   "outputs": [
    {
     "name": "stdout",
     "output_type": "stream",
     "text": [
      "2.2304665972619078 ± 0.09603222054858558\n"
     ]
    }
   ],
   "source": [
    "x7 = x5 * umath.sin(x6)\n",
    "print(x7)"
   ]
  },
  {
   "cell_type": "markdown",
   "metadata": {},
   "source": [
    "### Return expectation value of result"
   ]
  },
  {
   "cell_type": "code",
   "execution_count": 15,
   "metadata": {},
   "outputs": [
    {
     "name": "stdout",
     "output_type": "stream",
     "text": [
      "2.2304665972619078\n"
     ]
    }
   ],
   "source": [
    "print(get_value(x7))"
   ]
  },
  {
   "cell_type": "markdown",
   "metadata": {},
   "source": [
    "for linear uncertainty propagation the same as function value."
   ]
  },
  {
   "cell_type": "code",
   "execution_count": 16,
   "metadata": {},
   "outputs": [
    {
     "name": "stdout",
     "output_type": "stream",
     "text": [
      "2.2304665972619078\n"
     ]
    }
   ],
   "source": [
    "print(get_fcn_value(x7))"
   ]
  },
  {
   "cell_type": "markdown",
   "metadata": {},
   "source": [
    "### Calculate uncertainty of result"
   ]
  },
  {
   "cell_type": "code",
   "execution_count": 17,
   "metadata": {},
   "outputs": [
    {
     "name": "stdout",
     "output_type": "stream",
     "text": [
      "0.09603222054858558\n"
     ]
    }
   ],
   "source": [
    "print(get_stdunc(x7))"
   ]
  },
  {
   "cell_type": "markdown",
   "metadata": {},
   "source": [
    "### Calculate expanded uncertainty of result"
   ]
  },
  {
   "cell_type": "markdown",
   "metadata": {},
   "source": [
    "returns lower and upper limit."
   ]
  },
  {
   "cell_type": "code",
   "execution_count": 18,
   "metadata": {},
   "outputs": [
    {
     "name": "stdout",
     "output_type": "stream",
     "text": [
      "[[2.0422469  2.41868629]]\n"
     ]
    }
   ],
   "source": [
    "print(get_coverage_interval(x7, 0.95))"
   ]
  },
  {
   "cell_type": "markdown",
   "metadata": {},
   "source": [
    "### Calculate covariance or correlation of result"
   ]
  },
  {
   "cell_type": "code",
   "execution_count": 19,
   "metadata": {},
   "outputs": [
    {
     "name": "stdout",
     "output_type": "stream",
     "text": [
      "[[ 0.0125     -0.00917517]\n",
      " [-0.00917517  0.00922219]]\n"
     ]
    }
   ],
   "source": [
    "print(get_covariance([x6, x7]))"
   ]
  },
  {
   "cell_type": "code",
   "execution_count": 20,
   "metadata": {},
   "outputs": [
    {
     "name": "stdout",
     "output_type": "stream",
     "text": [
      "[[ 1.       -0.854559]\n",
      " [-0.854559  1.      ]]\n"
     ]
    }
   ],
   "source": [
    "print(get_correlation([x6, x7]))"
   ]
  },
  {
   "cell_type": "markdown",
   "metadata": {},
   "source": [
    "### Calculate uncertainty contribution of base inputs"
   ]
  },
  {
   "cell_type": "markdown",
   "metadata": {},
   "source": [
    "These are the sensitivity coefficients multiplied with the standard uncertainties of the base inputs x1 and x2."
   ]
  },
  {
   "cell_type": "code",
   "execution_count": 21,
   "metadata": {},
   "outputs": [
    {
     "name": "stdout",
     "output_type": "stream",
     "text": [
      "[[0.05109668 0.08131   ]]\n"
     ]
    }
   ],
   "source": [
    "print(get_jacobi(x7))"
   ]
  },
  {
   "cell_type": "markdown",
   "metadata": {},
   "source": [
    "### Calculate sensitivities w.r.t. intermediate results"
   ]
  },
  {
   "cell_type": "markdown",
   "metadata": {},
   "source": [
    "x3 and x4 are intermediate results."
   ]
  },
  {
   "cell_type": "code",
   "execution_count": 22,
   "metadata": {},
   "outputs": [
    {
     "name": "stdout",
     "output_type": "stream",
     "text": [
      "[[0.30213326 0.10441677]]\n"
     ]
    }
   ],
   "source": [
    "j1 = get_jacobi2(x7, [x3, x4])\n",
    "print(j1)"
   ]
  },
  {
   "cell_type": "markdown",
   "metadata": {},
   "source": [
    "NOTE: The calculation of sensitivities w.r.t. intermediate results\n",
    "requires special care and can't be done blindly. There are two\n",
    "requirements:\n",
    "1. The vector g = [x3, x4] must be complete in the sense that x7 can be\n",
    "calculated as a composite function x7 = f(g(x1,x2))\n",
    "e.g. get_jacobi2(x7, x3) would return a wrong result\n",
    "2. The elements of g must be linear independent\n",
    "e.g. get_jacobi2(x7, [x3, x4]) with x4 = 2. * x3 would crash.\n",
    "Generally it is not difficult to satisfy these requirement but it is \n",
    "the responsibility of the user to do so. You will not be warned and \n",
    "the returned result might be wrong, but it can be\n",
    "checked by summing up uncertainty contributions and comparing with\n",
    "combined uncertainty (see next cell)."
   ]
  },
  {
   "cell_type": "markdown",
   "metadata": {},
   "source": [
    "### Calculate uncertainty contribution of intermediate result"
   ]
  },
  {
   "cell_type": "code",
   "execution_count": 23,
   "metadata": {},
   "outputs": [
    {
     "name": "stdout",
     "output_type": "stream",
     "text": [
      "[[0.06755905 0.02953352]]\n"
     ]
    }
   ],
   "source": [
    "u1 = get_unc_component(x7, [x3, x4])\n",
    "print(u1)"
   ]
  },
  {
   "cell_type": "markdown",
   "metadata": {},
   "source": [
    "this is the same as"
   ]
  },
  {
   "cell_type": "code",
   "execution_count": 24,
   "metadata": {},
   "outputs": [
    {
     "name": "stdout",
     "output_type": "stream",
     "text": [
      "[[0.06755905 0.02953352]]\n"
     ]
    }
   ],
   "source": [
    "print(j1 * get_stdunc([x3, x4]))"
   ]
  },
  {
   "cell_type": "markdown",
   "metadata": {},
   "source": [
    "NOTE: the squared sum of these uncertainties is not equal to the \n",
    "combined uncertainty of x7, because x3 and x4 are correlated."
   ]
  },
  {
   "cell_type": "code",
   "execution_count": 25,
   "metadata": {},
   "outputs": [
    {
     "name": "stdout",
     "output_type": "stream",
     "text": [
      "0.07373231372057797\n"
     ]
    }
   ],
   "source": [
    "print(np.sqrt(np.sum(u1**2)))"
   ]
  },
  {
   "cell_type": "markdown",
   "metadata": {},
   "source": [
    "but by taking correlation into account it is the same as u(x7)"
   ]
  },
  {
   "cell_type": "code",
   "execution_count": 26,
   "metadata": {},
   "outputs": [
    {
     "name": "stdout",
     "output_type": "stream",
     "text": [
      "[[0.09603222]]\n"
     ]
    }
   ],
   "source": [
    "print(np.sqrt(np.dot(np.dot(j1, get_covariance([x3, x4])), j1.T)))"
   ]
  },
  {
   "cell_type": "markdown",
   "metadata": {},
   "source": [
    "### Store an uncertainty object"
   ]
  },
  {
   "cell_type": "markdown",
   "metadata": {},
   "source": [
    "stores uncertain objects in xml format maintaining all information"
   ]
  },
  {
   "cell_type": "code",
   "execution_count": 27,
   "metadata": {},
   "outputs": [],
   "source": [
    "ustorage.save_xml_file([x6, x7], 'test.xml')"
   ]
  },
  {
   "cell_type": "markdown",
   "metadata": {},
   "source": [
    "### Reload a stored uncertainty object"
   ]
  },
  {
   "cell_type": "markdown",
   "metadata": {},
   "source": [
    "all information is recovered."
   ]
  },
  {
   "cell_type": "code",
   "execution_count": 28,
   "metadata": {},
   "outputs": [],
   "source": [
    "a1 = ustorage.load_xml_file('test.xml')"
   ]
  },
  {
   "cell_type": "code",
   "execution_count": 29,
   "metadata": {},
   "outputs": [
    {
     "name": "stdout",
     "output_type": "stream",
     "text": [
      "1.5 ± 0.1118033988749895\n"
     ]
    }
   ],
   "source": [
    "x6n = a1[0]\n",
    "print(x6n)"
   ]
  },
  {
   "cell_type": "code",
   "execution_count": 30,
   "metadata": {},
   "outputs": [
    {
     "name": "stdout",
     "output_type": "stream",
     "text": [
      "2.2304665972619078 ± 0.09603222054858558\n"
     ]
    }
   ],
   "source": [
    "x7n = a1[1]\n",
    "print(x7n)"
   ]
  },
  {
   "cell_type": "markdown",
   "metadata": {},
   "source": [
    "correlation between x6n and x7n is the same as between x7 and x6"
   ]
  },
  {
   "cell_type": "code",
   "execution_count": 31,
   "metadata": {},
   "outputs": [
    {
     "name": "stdout",
     "output_type": "stream",
     "text": [
      "[[ 1.       -0.854559]\n",
      " [-0.854559  1.      ]]\n"
     ]
    }
   ],
   "source": [
    "print(get_correlation([x6n, x7n]))"
   ]
  },
  {
   "cell_type": "markdown",
   "metadata": {},
   "source": [
    "also correlations with respect to any other quantities are the same"
   ]
  },
  {
   "cell_type": "code",
   "execution_count": 32,
   "metadata": {},
   "outputs": [
    {
     "name": "stdout",
     "output_type": "stream",
     "text": [
      "[[ 1.        -0.854559   1.        -0.854559  -0.8      ]\n",
      " [-0.854559   1.        -0.854559   1.         0.9952598]\n",
      " [ 1.        -0.854559   1.        -0.854559  -0.8      ]\n",
      " [-0.854559   1.        -0.854559   1.         0.9952598]\n",
      " [-0.8        0.9952598 -0.8        0.9952598  1.       ]]\n"
     ]
    }
   ],
   "source": [
    "print(get_correlation([x6n, x7n, x6, x7, x3]))"
   ]
  },
  {
   "cell_type": "markdown",
   "metadata": {},
   "source": [
    "NOTE: x6n and x7n are in every aspect identical to x6 and x7. \n",
    "Recovery of full information works even if you shut down Python\n",
    "and then restart, as long as the uncertainty objects were stored before \n",
    "shutdown and then reloaded after restart again.\n",
    "\n",
    "All the necessary information is stored in the files."
   ]
  },
  {
   "cell_type": "markdown",
   "metadata": {},
   "source": [
    "### How to bridge non-analytical parts in the measurement equation"
   ]
  },
  {
   "cell_type": "markdown",
   "metadata": {},
   "source": [
    "If the measurement equation consists of a non-analytical \n",
    "part, as e.g. a numerical method like nonlinear least squares, which \n",
    "returns an output p with value p0 and if the sensitivities j1 j2 of \n",
    "p with respect to the inputs x1 and x2 can be determined somehow, \n",
    "it is possible to define p as an uncertainty number with\n",
    "p = ufloatsystem(p0, [x1, x2], [j1, j2])."
   ]
  },
  {
   "cell_type": "code",
   "execution_count": 33,
   "metadata": {},
   "outputs": [
    {
     "name": "stdout",
     "output_type": "stream",
     "text": [
      "5.0 ± 0.9241753080449618\n"
     ]
    }
   ],
   "source": [
    "p0 = 5.0\n",
    "j = [2.1, 4.5]\n",
    "p = ufloatsystem(p0, [x1, x2], j)\n",
    "print(p)"
   ]
  },
  {
   "cell_type": "code",
   "execution_count": 34,
   "metadata": {},
   "outputs": [
    {
     "name": "stdout",
     "output_type": "stream",
     "text": [
      "[[2.1 4.5]]\n"
     ]
    }
   ],
   "source": [
    "print(get_jacobi2(p, [x1, x2]))"
   ]
  },
  {
   "cell_type": "markdown",
   "metadata": {},
   "source": [
    "## Higher order uncertainty propagation"
   ]
  },
  {
   "cell_type": "markdown",
   "metadata": {},
   "source": [
    "Use the higer order uncertainty propagation amd specify the maximum order of the Taylor expansion."
   ]
  },
  {
   "cell_type": "code",
   "execution_count": 35,
   "metadata": {},
   "outputs": [],
   "source": [
    "use_distprop(maxlevel=3)"
   ]
  },
  {
   "cell_type": "markdown",
   "metadata": {},
   "source": [
    "NOTE: There is no upper limit for maxlevel but be aware that memory \n",
    "consumption and computational burden increase exponentially with the\n",
    "value of maxlevel.\n",
    "\n",
    "maxlevel=3 is a good value which already provides reasonable\n",
    "results for many cases at which linear uncertainty propagation fails."
   ]
  },
  {
   "cell_type": "markdown",
   "metadata": {},
   "source": [
    "### Creation of higher order uncertainty objects"
   ]
  },
  {
   "cell_type": "markdown",
   "metadata": {},
   "source": [
    "the same as for linear uncertainty objects.\n",
    "\n",
    "In the future it will be possible to specify distributions other than\n",
    "Gaussians."
   ]
  },
  {
   "cell_type": "code",
   "execution_count": 36,
   "metadata": {},
   "outputs": [
    {
     "name": "stdout",
     "output_type": "stream",
     "text": [
      "0.0 ± 0.1\n"
     ]
    }
   ],
   "source": [
    "y1 = ufloat(0.0, 0.1)\n",
    "print(y1)"
   ]
  },
  {
   "cell_type": "markdown",
   "metadata": {},
   "source": [
    "### Calculate with higher order uncertainty objects"
   ]
  },
  {
   "cell_type": "markdown",
   "metadata": {},
   "source": [
    "Linear uncertainty propagation would return an uncertainty of 0."
   ]
  },
  {
   "cell_type": "code",
   "execution_count": 37,
   "metadata": {},
   "outputs": [
    {
     "name": "stdout",
     "output_type": "stream",
     "text": [
      "0.010000000000000002 ± 0.014142135623730954\n"
     ]
    }
   ],
   "source": [
    "y2 = y1**2\n",
    "print(y2)"
   ]
  },
  {
   "cell_type": "code",
   "execution_count": 38,
   "metadata": {},
   "outputs": [
    {
     "name": "stdout",
     "output_type": "stream",
     "text": [
      "0.995 ± 0.007071067811865477\n"
     ]
    }
   ],
   "source": [
    "y3 = umath.cos(y1)\n",
    "print(y3)"
   ]
  },
  {
   "cell_type": "markdown",
   "metadata": {},
   "source": [
    "### Expectation and function value are not the same"
   ]
  },
  {
   "cell_type": "code",
   "execution_count": 39,
   "metadata": {},
   "outputs": [
    {
     "name": "stdout",
     "output_type": "stream",
     "text": [
      "0.010000000000000002\n"
     ]
    }
   ],
   "source": [
    "print(get_value(y2))"
   ]
  },
  {
   "cell_type": "code",
   "execution_count": 40,
   "metadata": {},
   "outputs": [
    {
     "name": "stdout",
     "output_type": "stream",
     "text": [
      "0.0\n"
     ]
    }
   ],
   "source": [
    "print(get_fcn_value(y2))"
   ]
  },
  {
   "cell_type": "code",
   "execution_count": 41,
   "metadata": {},
   "outputs": [
    {
     "name": "stdout",
     "output_type": "stream",
     "text": [
      "0.995\n"
     ]
    }
   ],
   "source": [
    "print(get_value(y3))"
   ]
  },
  {
   "cell_type": "code",
   "execution_count": 42,
   "metadata": {},
   "outputs": [
    {
     "name": "stdout",
     "output_type": "stream",
     "text": [
      "1.0\n"
     ]
    }
   ],
   "source": [
    "print(get_fcn_value(y3))"
   ]
  },
  {
   "cell_type": "markdown",
   "metadata": {},
   "source": [
    "### Uncertainties of higher order uncertainty objects"
   ]
  },
  {
   "cell_type": "code",
   "execution_count": 43,
   "metadata": {},
   "outputs": [
    {
     "name": "stdout",
     "output_type": "stream",
     "text": [
      "0.014142135623730954\n"
     ]
    }
   ],
   "source": [
    "print(get_stdunc(y2))"
   ]
  },
  {
   "cell_type": "code",
   "execution_count": 44,
   "metadata": {},
   "outputs": [
    {
     "name": "stdout",
     "output_type": "stream",
     "text": [
      "0.007071067811865477\n"
     ]
    }
   ],
   "source": [
    "print(get_stdunc(y3))"
   ]
  },
  {
   "cell_type": "code",
   "execution_count": 45,
   "metadata": {},
   "outputs": [
    {
     "name": "stdout",
     "output_type": "stream",
     "text": [
      "[[-0.01771808  0.03771808]]\n"
     ]
    }
   ],
   "source": [
    "print(get_coverage_interval(y2, 0.95))"
   ]
  },
  {
   "cell_type": "code",
   "execution_count": 46,
   "metadata": {},
   "outputs": [
    {
     "name": "stdout",
     "output_type": "stream",
     "text": [
      "[[0.98114096 1.00885904]]\n"
     ]
    }
   ],
   "source": [
    "print(get_coverage_interval(y3, 0.95))"
   ]
  },
  {
   "cell_type": "markdown",
   "metadata": {},
   "source": [
    "NOTE: This is based on the assumption that the result distribution is \n",
    "Gaussian. It is possible to obtain central moments of the result \n",
    "distribution using get_moment(). This information is not yet used to \n",
    "calculate more realistic coverage intervals."
   ]
  }
 ],
 "metadata": {
  "kernelspec": {
   "display_name": "Python 3",
   "language": "python",
   "name": "python3"
  },
  "language_info": {
   "codemirror_mode": {
    "name": "ipython",
    "version": 3
   },
   "file_extension": ".py",
   "mimetype": "text/x-python",
   "name": "python",
   "nbconvert_exporter": "python",
   "pygments_lexer": "ipython3",
   "version": "3.6.6"
  }
 },
 "nbformat": 4,
 "nbformat_minor": 2
}
