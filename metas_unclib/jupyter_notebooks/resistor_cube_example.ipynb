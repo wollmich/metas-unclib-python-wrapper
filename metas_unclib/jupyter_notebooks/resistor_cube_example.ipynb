{
 "cells": [
  {
   "cell_type": "markdown",
   "metadata": {},
   "source": [
    "# Resistor Cube Example"
   ]
  },
  {
   "cell_type": "markdown",
   "metadata": {},
   "source": [
    "Michael Wollensack METAS - 02.05.2019"
   ]
  },
  {
   "cell_type": "markdown",
   "metadata": {},
   "source": [
    "![Resistor Cube](resistor_cube_example.png)"
   ]
  },
  {
   "cell_type": "markdown",
   "metadata": {},
   "source": [
    "## Definition of input uncertainty objects $R_{01}$ ... $R_{12}$ and $U$"
   ]
  },
  {
   "cell_type": "markdown",
   "metadata": {},
   "source": [
    "Import [METAS UncLib](https://www.metas.ch/unclib) and use the linear uncertainty propagation."
   ]
  },
  {
   "cell_type": "code",
   "execution_count": 1,
   "metadata": {},
   "outputs": [],
   "source": [
    "from metas_unclib import *\n",
    "use_linprop()"
   ]
  },
  {
   "cell_type": "code",
   "execution_count": 2,
   "metadata": {},
   "outputs": [],
   "source": [
    "U   = 1.\n",
    "R01 = ufloat(50.0, 0.1, desc='R01')\n",
    "R02 = ufloat(50.0, 0.1, desc='R02')\n",
    "R03 = ufloat(50.0, 0.1, desc='R03')\n",
    "R04 = ufloat(50.0, 0.1, desc='R04')\n",
    "R05 = ufloat(50.0, 0.1, desc='R05')\n",
    "R06 = ufloat(50.0, 0.1, desc='R06')\n",
    "R07 = ufloat(50.0, 0.1, desc='R07')\n",
    "R08 = ufloat(50.0, 0.1, desc='R08')\n",
    "R09 = ufloat(50.0, 0.1, desc='R09')\n",
    "R10 = ufloat(50.0, 0.1, desc='R10')\n",
    "R11 = ufloat(50.0, 0.1, desc='R11')\n",
    "R12 = ufloat(50.0, 0.1, desc='R12')"
   ]
  },
  {
   "cell_type": "markdown",
   "metadata": {},
   "source": [
    "## Kirchhoff's circuit laws --> linear equation system"
   ]
  },
  {
   "cell_type": "code",
   "execution_count": 3,
   "metadata": {},
   "outputs": [],
   "source": [
    "Ux = np.array([ 0, 0, 0, 0, 0, 0, U, U, U, U, U, U ])"
   ]
  },
  {
   "cell_type": "code",
   "execution_count": 4,
   "metadata": {},
   "outputs": [],
   "source": [
    "Rx = np.array([[  -1,   0,   0,   1,   0,   0,   0,   0,   1,   0,   0,   0 ],\n",
    "               [   0,  -1,   0,   0,   1,   1,   0,   0,   0,   0,   0,   0 ],\n",
    "               [   0,   0,  -1,   0,   0,   0,   1,   1,   0,   0,   0,   0 ],\n",
    "               [   0,   0,   0,   1,   1,   0,   0,   0,   0,  -1,   0,   0 ],\n",
    "               [   0,   0,   0,   0,   0,   1,   1,   0,   0,   0,  -1,   0 ],\n",
    "               [   0,   0,   0,   0,   0,   0,   0,   1,   1,   0,   0,  -1 ],\n",
    "               [ R01,   0,   0, R04,   0,   0,   0,   0,   0, R10,   0,   0 ],\n",
    "               [ R01,   0,   0,   0,   0,   0,   0,   0, R09,   0,   0, R12 ],\n",
    "               [   0, R02,   0,   0,   0, R06,   0,   0,   0,   0, R11,   0 ],\n",
    "               [   0, R02,   0,   0, R05,   0,   0,   0,   0, R10,   0,   0 ],\n",
    "               [   0,   0, R03,   0,   0,   0,   0, R08,   0,   0,   0, R12 ],\n",
    "               [   0,   0, R03,   0,   0,   0, R07,   0,   0,   0, R11,   0 ]])"
   ]
  },
  {
   "cell_type": "markdown",
   "metadata": {},
   "source": [
    "## Solve linear equation system"
   ]
  },
  {
   "cell_type": "code",
   "execution_count": 5,
   "metadata": {},
   "outputs": [],
   "source": [
    "Ix = ulinalg.solve(Rx, Ux)"
   ]
  },
  {
   "cell_type": "markdown",
   "metadata": {},
   "source": [
    "## Compute equivalent resistor $R$ of the cube"
   ]
  },
  {
   "cell_type": "code",
   "execution_count": 6,
   "metadata": {},
   "outputs": [],
   "source": [
    "I = Ix[0] + Ix[1] + Ix[2]"
   ]
  },
  {
   "cell_type": "code",
   "execution_count": 7,
   "metadata": {},
   "outputs": [
    {
     "name": "stdout",
     "output_type": "stream",
     "text": [
      "41.666666666666664 ± 0.028054180384339097\n"
     ]
    }
   ],
   "source": [
    "R = U/I\n",
    "print(R)"
   ]
  }
 ],
 "metadata": {
  "kernelspec": {
   "display_name": "Python 3",
   "language": "python",
   "name": "python3"
  },
  "language_info": {
   "codemirror_mode": {
    "name": "ipython",
    "version": 3
   },
   "file_extension": ".py",
   "mimetype": "text/x-python",
   "name": "python",
   "nbconvert_exporter": "python",
   "pygments_lexer": "ipython3",
   "version": "3.6.6"
  }
 },
 "nbformat": 4,
 "nbformat_minor": 2
}
